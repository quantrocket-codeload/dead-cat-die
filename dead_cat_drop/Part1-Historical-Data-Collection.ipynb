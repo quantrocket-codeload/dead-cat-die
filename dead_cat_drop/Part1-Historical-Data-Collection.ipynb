{
 "cells": [
  {
   "cell_type": "markdown",
   "metadata": {},
   "source": [
    "<a href=\"https://www.quantrocket.com\"><img alt=\"QuantRocket logo\" src=\"https://www.quantrocket.com/assets/img/notebook-header-logo.png\"></a><br>\n",
    "<a href=\"https://www.quantrocket.com/disclaimer/\">Disclaimer</a>"
   ]
  },
  {
   "cell_type": "markdown",
   "metadata": {},
   "source": [
    "# Collect EDI data\n",
    "\n",
    "> EDI data can be purchased two ways: a one-time purchase of historical data for 10 exchanges, or a subscription that includes history plus daily updates. A common purchase strategy is to purchase the historical data bundle for research, then, based on the research results, subscribe to daily updates for the exchanges you intend to trade. Explore EDI data in the [Data Library](https://www.quantrocket.com/data/?filter=edi).\n",
    "\n",
    "For each of our 10 exchanges:"
   ]
  },
  {
   "cell_type": "code",
   "execution_count": 1,
   "metadata": {},
   "outputs": [],
   "source": [
    "exchanges = (\n",
    "    # MIC, db_name\n",
    "    (\"XBRU\", \"edi-belgium-1d\"),\n",
    "    (\"XTSE\", \"edi-canada-1d\"),\n",
    "    (\"XPAR\", \"edi-france-1d\"),\n",
    "    (\"XETR\", \"edi-germany-1d\"),\n",
    "    (\"XHKG\", \"edi-hongkong-1d\"),\n",
    "    (\"XJPX\", \"edi-japan-1d\"),\n",
    "    (\"XAMS\", \"edi-netherlands-1d\"),\n",
    "    (\"XSTO\", \"edi-sweden-1d\"),\n",
    "    (\"XSWX\", \"edi-switzerland-1d\"),\n",
    "    (\"XLON\", \"edi-uk-1d\")\n",
    ")"
   ]
  },
  {
   "cell_type": "markdown",
   "metadata": {},
   "source": [
    "We create a separate database and collect history:"
   ]
  },
  {
   "cell_type": "code",
   "execution_count": 2,
   "metadata": {},
   "outputs": [],
   "source": [
    "from quantrocket.history import create_edi_db, collect_history, drop_db\n",
    "\n",
    "for mic, db_name in exchanges:\n",
    "    create_edi_db(db_name, exchanges=mic)\n",
    "    collect_history(db_name)"
   ]
  },
  {
   "cell_type": "markdown",
   "metadata": {},
   "source": [
    "Use flightlog to monitor the progress for each exchange:\n",
    "\n",
    "```\n",
    "quantrocket.history: INFO [edi-belgium-1d] Collecting EDI XBRU history from 2007 to present\n",
    "quantrocket.history: INFO [edi-belgium-1d] Collecting updated EDI securities listings for XBRU\n",
    "quantrocket.history: INFO [edi-belgium-1d] Collecting additional EDI XBRU history from 2020-09 to present\n",
    "quantrocket.history: INFO [edi-belgium-1d] Collected 166 monthly files in quantrocket.v2.history.edi-belgium-1d.sqlite\n",
    "```"
   ]
  },
  {
   "cell_type": "markdown",
   "metadata": {},
   "source": [
    "***\n",
    "\n",
    "## *Next Up*\n",
    "\n",
    "Part 2: [Moonshot Strategy Code](Part2-Moonshot-Strategy-Code.ipynb)"
   ]
  }
 ],
 "metadata": {
  "kernelspec": {
   "display_name": "Python 3",
   "language": "python",
   "name": "python3"
  },
  "language_info": {
   "codemirror_mode": {
    "name": "ipython",
    "version": 3
   },
   "file_extension": ".py",
   "mimetype": "text/x-python",
   "name": "python",
   "nbconvert_exporter": "python",
   "pygments_lexer": "ipython3",
   "version": "3.7.6"
  }
 },
 "nbformat": 4,
 "nbformat_minor": 4
}
