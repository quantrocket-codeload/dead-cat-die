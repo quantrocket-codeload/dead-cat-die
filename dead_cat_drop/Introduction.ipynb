{
 "cells": [
  {
   "cell_type": "markdown",
   "metadata": {},
   "source": [
    "<a href=\"https://www.quantrocket.com\"><img alt=\"QuantRocket logo\" src=\"https://www.quantrocket.com/assets/img/notebook-header-logo.png\"></a>\n",
    "\n",
    "<a href=\"https://www.quantrocket.com/disclaimer/\">Disclaimer</a>"
   ]
  },
  {
   "cell_type": "markdown",
   "metadata": {},
   "source": [
    "# Dead Cat Drop\n",
    "\n",
    "Moonshot strategy that shorts stocks that fell 10% or more the previous day. Despite the proverbial idea of the \"dead cat bounce,\" this strategy exploits the tendency of stocks that suffer large one-day losses to keep falling the next day.\n",
    "\n",
    "This tutorial also demonstrates how to run a multi-country backtest to find where an anomaly works best. Uses global equities data from EDI.\n",
    "\n",
    "## Markets\n",
    "\n",
    "The markets tested are the 10 largest markets (ranked by number of primary listings) that are (1) outside the US, (2) tradeable through Interactive Brokers, and (3) [shortable through Interactive Brokers](https://www.quantrocket.com/blog/best-global-stock-markets-for-short-sellers/). Note that the US market is excluded due to SEC Rule 201 (Alternative Uptick Rule), which restricts short-selling of stocks that fall by 10% or more. \n",
    "\n",
    "The list of tested markets includes:\n",
    "\n",
    "* Belgium (Euronext Brussels)\n",
    "* Canada (Toronto Stock Exchange)\n",
    "* France (Euronext Paris)\n",
    "* Germany (Xetra)\n",
    "* Hong Kong (Hong Kong Stock Exchange)\n",
    "* Japan (Tokyo Stock Exchange)\n",
    "* Netherlands (Euronext Amsterdam)\n",
    "* Sweden (Nasdaq Nordic Stockholm)\n",
    "* Switzerland (Six Swiss Exchange)\n",
    "* United Kingdom (London Stock Exchange)\n"
   ]
  },
  {
   "cell_type": "markdown",
   "metadata": {},
   "source": [
    "---------\n",
    "\n",
    "* Part 1: [Historical Data Collection](Part1-Historical-Data-Collection.ipynb)\n",
    "* Part 2: [Moonshot Strategy Code](Part2-Moonshot-Strategy-Code.ipynb)\n",
    "* Part 3: [Multi-Country Backtest](Part3-Multi-Country-Backtest.ipynb)\n",
    "* Part 4: [Commissions](Part4-Commissions.ipynb)\n",
    "* Part 5: [Short Sale Constraints](Part5-Short-Sale-Constraints.ipynb)\n"
   ]
  }
 ],
 "metadata": {
  "kernelspec": {
   "display_name": "Python 3",
   "language": "python",
   "name": "python3"
  },
  "language_info": {
   "codemirror_mode": {
    "name": "ipython",
    "version": 3
   },
   "file_extension": ".py",
   "mimetype": "text/x-python",
   "name": "python",
   "nbconvert_exporter": "python",
   "pygments_lexer": "ipython3",
   "version": "3.7.6"
  }
 },
 "nbformat": 4,
 "nbformat_minor": 4
}
