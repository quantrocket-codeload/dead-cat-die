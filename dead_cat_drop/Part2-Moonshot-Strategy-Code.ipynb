{
 "cells": [
  {
   "cell_type": "markdown",
   "metadata": {},
   "source": [
    "<a href=\"https://www.quantrocket.com\"><img alt=\"QuantRocket logo\" src=\"https://www.quantrocket.com/assets/img/notebook-header-logo.png\"></a><br>\n",
    "<a href=\"https://www.quantrocket.com/disclaimer/\">Disclaimer</a>"
   ]
  },
  {
   "cell_type": "markdown",
   "metadata": {},
   "source": [
    "# Moonshot Strategy Code"
   ]
  },
  {
   "cell_type": "markdown",
   "metadata": {},
   "source": [
    "The strategy code for the dead-cat-drop strategy is provided in [dead-cat-drop.py](dead-cat-drop.py). "
   ]
  },
  {
   "cell_type": "markdown",
   "metadata": {},
   "source": [
    "## Strategy Highlights\n",
    "\n",
    "In `prices_to_signals`, the strategy first computes a dollar volume filter to screen out illiquid stocks:\n",
    "\n",
    "```python\n",
    "closes = prices.loc[\"Close\"]\n",
    "\n",
    "# Compute dollar volume mask\n",
    "dollar_volumes = prices.loc[\"Volume\"] * closes\n",
    "avg_dollar_volumes = dollar_volumes.rolling(window=22).mean()\n",
    "are_eligible = avg_dollar_volumes >= self.MIN_DOLLAR_VOLUME\n",
    "\n",
    "```\n",
    "\n",
    "We limit the universe to equity shares (EQS), thus excluding ETFs, Depository Receipts, and other security types:  \n",
    "\n",
    "```python\n",
    "sectypes = get_securities_reindexed_like(\n",
    "    closes, \"edi_SecTypeCode\").loc[\"edi_SecTypeCode\"]\n",
    "are_eligible &= sectypes == \"EQS\"\n",
    "```\n",
    "\n",
    "Finally, we identify the stocks that fell 10%:\n",
    "\n",
    "```python\n",
    "# Compute big losers mask\n",
    "prior_returns = (closes - closes.shift()) / closes.shift()\n",
    "big_losers = prior_returns <= -0.10\n",
    "\n",
    "short_signals = big_losers & are_eligible\n",
    "\n",
    "return -short_signals.astype(int)\n",
    "```\n",
    "\n",
    "We short these stocks on the next day's open and exit on the close."
   ]
  },
  {
   "cell_type": "markdown",
   "metadata": {},
   "source": [
    "## Exchange-specific subclasses\n",
    "\n",
    "The recommended Moonshot paradigm when backtesting multiple markets is to implement the strategy logic in a base class, then create subclasses for each exchange/market with the appropriate exchange-specific parameters. \n",
    "\n",
    "For this strategy, the exchange-specific parameters are:\n",
    "\n",
    "* `CODE`: every strategy requires a unique code\n",
    "* `DB`: the database(s) to query. Note that we group several Eurozone countries into a single strategy.\n",
    "* `TIMEZONE`: some exchanges contain listings in multiple timezones; this parameter tells Moonshot what timezone to convert the data to. For valid timezones, query the securities master database or `import pytz` and look at `pytz.all_timezones` \n",
    "* `MIN_DOLLAR_VOLUME`: used to filter out illiquid securities. This is expressed in the local currency of the exchange.\n",
    "* `LIMIT_TO_CURRENCY`: some exchanges contain listings in multiple currencies. To ensure the `MIN_DOLLAR_VOLUME` filter works as expected, we limit to the country's primary currency.\n",
    "\n",
    "The following code was used to generate the subclasses which were then pasted into the strategy file. If you are using different exchanges, adjust the code below and paste your exchanges in the strategy file:"
   ]
  },
  {
   "cell_type": "code",
   "execution_count": 1,
   "metadata": {},
   "outputs": [
    {
     "name": "stdout",
     "output_type": "stream",
     "text": [
      "\n",
      "# Canada\n",
      "class DeadCatDropCanada(DeadCatDrop):\n",
      "\n",
      "    CODE = \"dead-cat-drop-canada\"\n",
      "    DB = \"edi-canada-1d\"\n",
      "    TIMEZONE = \"America/Toronto\"\n",
      "    MIN_DOLLAR_VOLUME = 1000000.0\n",
      "    LIMIT_TO_CURRENCY = \"CAD\"\n",
      "\n",
      "# Eurozone\n",
      "class DeadCatDropEurozone(DeadCatDrop):\n",
      "\n",
      "    CODE = \"dead-cat-drop-eurozone\"\n",
      "    DB = ['edi-belgium-1d', 'edi-france-1d', 'edi-germany-1d', 'edi-netherlands-1d']\n",
      "    TIMEZONE = \"Europe/Paris\"\n",
      "    MIN_DOLLAR_VOLUME = 1000000.0\n",
      "    LIMIT_TO_CURRENCY = \"EUR\"\n",
      "\n",
      "# Hongkong\n",
      "class DeadCatDropHongkong(DeadCatDrop):\n",
      "\n",
      "    CODE = \"dead-cat-drop-hongkong\"\n",
      "    DB = \"edi-hongkong-1d\"\n",
      "    TIMEZONE = \"Asia/Hong_Kong\"\n",
      "    MIN_DOLLAR_VOLUME = 8000000.0\n",
      "    LIMIT_TO_CURRENCY = \"HKD\"\n",
      "\n",
      "# Japan\n",
      "class DeadCatDropJapan(DeadCatDrop):\n",
      "\n",
      "    CODE = \"dead-cat-drop-japan\"\n",
      "    DB = \"edi-japan-1d\"\n",
      "    TIMEZONE = \"Japan\"\n",
      "    MIN_DOLLAR_VOLUME = 100000000.0\n",
      "    LIMIT_TO_CURRENCY = \"JPY\"\n",
      "\n",
      "# Sweden\n",
      "class DeadCatDropSweden(DeadCatDrop):\n",
      "\n",
      "    CODE = \"dead-cat-drop-sweden\"\n",
      "    DB = \"edi-sweden-1d\"\n",
      "    TIMEZONE = \"Europe/Stockholm\"\n",
      "    MIN_DOLLAR_VOLUME = 8000000.0\n",
      "    LIMIT_TO_CURRENCY = \"SEK\"\n",
      "\n",
      "# Switzerland\n",
      "class DeadCatDropSwitzerland(DeadCatDrop):\n",
      "\n",
      "    CODE = \"dead-cat-drop-switzerland\"\n",
      "    DB = \"edi-switzerland-1d\"\n",
      "    TIMEZONE = \"Europe/Zurich\"\n",
      "    MIN_DOLLAR_VOLUME = 1000000.0\n",
      "    LIMIT_TO_CURRENCY = \"CHF\"\n",
      "\n",
      "# UK\n",
      "class DeadCatDropUK(DeadCatDrop):\n",
      "\n",
      "    CODE = \"dead-cat-drop-uk\"\n",
      "    DB = \"edi-uk-1d\"\n",
      "    TIMEZONE = \"Europe/London\"\n",
      "    MIN_DOLLAR_VOLUME = 100000000.0\n",
      "    LIMIT_TO_CURRENCY = \"GBX\"\n"
     ]
    }
   ],
   "source": [
    "exchanges = (\n",
    "    # name          DB                      TIMEZONE            MIN_DOLLAR_VOLUME LIMIT_TO_CURRENCY\n",
    "    (\"Canada\",      \"edi-canada-1d\",        \"America/Toronto\",  1e6,              \"CAD\"),\n",
    "    (\"Eurozone\",    [\"edi-belgium-1d\", \n",
    "                     \"edi-france-1d\", \n",
    "                     \"edi-germany-1d\", \n",
    "                     \"edi-netherlands-1d\"], \"Europe/Paris\",     1e6,              \"EUR\"),\n",
    "    (\"Hongkong\",    \"edi-hongkong-1d\",      \"Asia/Hong_Kong\",   8e6,              \"HKD\"),\n",
    "    (\"Japan\",       \"edi-japan-1d\",         \"Japan\",            1e8,              \"JPY\"),\n",
    "    (\"Sweden\",      \"edi-sweden-1d\",        \"Europe/Stockholm\", 8e6,              \"SEK\"),\n",
    "    (\"Switzerland\", \"edi-switzerland-1d\",   \"Europe/Zurich\",    1e6,              \"CHF\"),\n",
    "    (\"UK\",          \"edi-uk-1d\",            \"Europe/London\",    1e8,              \"GBX\")\n",
    ")\n",
    "\n",
    "for name, db, timezone, min_dollar_volume, limit_to_currency in exchanges:\n",
    "    print('''\n",
    "# {name}\n",
    "class DeadCatDrop{name}(DeadCatDrop):\n",
    "\n",
    "    CODE = \"dead-cat-drop-{name_lower}\"\n",
    "    DB = {db}\n",
    "    TIMEZONE = \"{timezone}\"\n",
    "    MIN_DOLLAR_VOLUME = {min_dollar_volume}\n",
    "    LIMIT_TO_CURRENCY = \"{limit_to_currency}\"'''.format(\n",
    "        name=name,\n",
    "        name_lower=name.lower(),\n",
    "        db=db if isinstance(db, list) else f'\"{db}\"',\n",
    "        timezone=timezone,\n",
    "        min_dollar_volume=min_dollar_volume,\n",
    "        limit_to_currency=limit_to_currency\n",
    "    ))"
   ]
  },
  {
   "cell_type": "markdown",
   "metadata": {},
   "source": [
    "## Install strategy file\n",
    "\n",
    "To \"install\" the strategy, execute the following cell to move the strategy file to the `/codeload/moonshot` directory, where Moonshot looks:"
   ]
  },
  {
   "cell_type": "code",
   "execution_count": 2,
   "metadata": {},
   "outputs": [],
   "source": [
    "# make directory if doesn't exist\n",
    "!mkdir -p /codeload/moonshot\n",
    "\n",
    "!mv dead-cat-drop.py /codeload/moonshot/"
   ]
  },
  {
   "cell_type": "markdown",
   "metadata": {},
   "source": [
    "***\n",
    "\n",
    "## *Next Up*\n",
    "\n",
    "Part 3: [Multi-Country Backtest](Part3-Multi-Country-Backtest.ipynb)"
   ]
  }
 ],
 "metadata": {
  "kernelspec": {
   "display_name": "Python 3",
   "language": "python",
   "name": "python3"
  },
  "language_info": {
   "codemirror_mode": {
    "name": "ipython",
    "version": 3
   },
   "file_extension": ".py",
   "mimetype": "text/x-python",
   "name": "python",
   "nbconvert_exporter": "python",
   "pygments_lexer": "ipython3",
   "version": "3.7.6"
  }
 },
 "nbformat": 4,
 "nbformat_minor": 4
}
